{
 "cells": [
  {
   "cell_type": "code",
   "execution_count": 13,
   "metadata": {},
   "outputs": [],
   "source": [
    "import mvpa2\n",
    "from os.path import exists, join  \n",
    "import mvpa2.suite as mv\n",
    "import glob\n",
    "import numpy as np\n",
    "from scipy.stats import zscore"
   ]
  },
  {
   "cell_type": "code",
   "execution_count": 2,
   "metadata": {},
   "outputs": [],
   "source": [
    "# set everything up ! \n",
    "subid = [1,12,17,27,32,33,34,36,37,41]\n",
    "subjs = ['{:0>6}'.format(i) for i in subid]\n",
    "hemis = ['lh', 'rh']\n",
    "data_path = '/dartfs-hpc/scratch/psyc164/mvpaces/glm/'\n",
    "datalad_path = '/dartfs/rc/lab/D/DBIC/DBIC/datasets.datalad.org/labs/haxby/attention/derivatives/'\n",
    "\n",
    "\n",
    "# change accordingly\n",
    "tas ks = ['beh','tax']\n",
    "sub, hemi = subjs[0], hemis[0]\n",
    "prefix = 'sub-rid'+sub\n",
    "suffix = hemi+'.coefs.gii'\n",
    "\n",
    "\n",
    "taxonomy = np.repeat(['bird', 'insect', 'primate', 'reptile', 'unduate'],4)\n",
    "behavior = np.tile(['eating', 'fighting', 'running', 'swimming'],5)\n",
    "conditions = [' '.join((beh, tax)) for beh, tax in zip(behavior, taxonomy)]"
   ]
  },
  {
   "cell_type": "code",
   "execution_count": 3,
   "metadata": {},
   "outputs": [],
   "source": [
    "# grab all subj1's  files into a list\n",
    "#fn = data_path+sub_pref+'*lh.coefs.gii'\n",
    "fn = data_path+prefix+'*'+suffix\n",
    "files = sorted(glob.glob(fn))"
   ]
  },
  {
   "cell_type": "code",
   "execution_count": 23,
   "metadata": {},
   "outputs": [],
   "source": [
    "targets = range(1,21)\n",
    "ds = None\n",
    "for x in range(len(files)):\n",
    "    chunks = [x+1]*20\n",
    "    d = mv.gifti_dataset(files[x], chunks=chunks, targets=targets)\n",
    "    d.sa['conditions']=conditions\n",
    "    d.sa['taxonomy'] = taxonomy\n",
    "    d.sa['behavior'] = behavior\n",
    "    if ds is None:\n",
    "        ds = d\n",
    "    else:      \n",
    "        ds = mv.vstack((ds,d))"
   ]
  },
  {
   "cell_type": "code",
   "execution_count": 24,
   "metadata": {},
   "outputs": [],
   "source": [
    "ds.fa['node_indices']=range(ds.shape[1])\n",
    "train='behavior'"
   ]
  },
  {
   "cell_type": "code",
   "execution_count": 25,
   "metadata": {},
   "outputs": [],
   "source": [
    "ds.samples = zscore(ds.samples, axis=1)"
   ]
  },
  {
   "cell_type": "code",
   "execution_count": 26,
   "metadata": {},
   "outputs": [],
   "source": [
    "# load surface and get searchlight query\n",
    "radius = 3 \n",
    "surface = mv.surf.read(join(data_path, '{0}.pial.gii'.format(hemi)))\n",
    "# this is an arbitrary radius and distance metric!\n",
    "query = mv.SurfaceQueryEngine(surface, radius, distance_metric='dijkstra')\n",
    "# based off PyMVPA tutorial\n",
    "clf = mv.LinearCSVMC()\n",
    "cv = mv.CrossValidation(clf, mv.NFoldPartitioner(attr=train),\n",
    "                     errorfx=lambda p, t: np.mean(p == t),\n",
    "                     enable_ca=['stats'])\n",
    "searchlights = mv.Searchlight(cv, queryengine=query, postproc=mv.mean_sample(), roi_ids=None)"
   ]
  },
  {
   "cell_type": "code",
   "execution_count": null,
   "metadata": {
    "scrolled": true
   },
   "outputs": [],
   "source": [
    "sl_clf_results = searchlights(ds)"
   ]
  },
  {
   "cell_type": "code",
   "execution_count": null,
   "metadata": {},
   "outputs": [],
   "source": []
  }
 ],
 "metadata": {
  "kernelspec": {
   "display_name": "Python 2",
   "language": "python",
   "name": "python2"
  },
  "language_info": {
   "codemirror_mode": {
    "name": "ipython",
    "version": 2
   },
   "file_extension": ".py",
   "mimetype": "text/x-python",
   "name": "python",
   "nbconvert_exporter": "python",
   "pygments_lexer": "ipython2",
   "version": "2.7.16"
  }
 },
 "nbformat": 4,
 "nbformat_minor": 2
}
